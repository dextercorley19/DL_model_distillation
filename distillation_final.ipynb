{
 "cells": [
  {
   "cell_type": "markdown",
   "id": "9cb90416",
   "metadata": {},
   "source": [
    "## Initiate open_clip and create embeddings for labels"
   ]
  },
  {
   "cell_type": "code",
   "execution_count": 1,
   "id": "c48e72b7",
   "metadata": {},
   "outputs": [
    {
     "name": "stderr",
     "output_type": "stream",
     "text": [
      "/Users/dcmac14/Library/Caches/pypoetry/virtualenvs/deeplearning-4xETOx6U-py3.10/lib/python3.10/site-packages/tqdm/auto.py:21: TqdmWarning: IProgress not found. Please update jupyter and ipywidgets. See https://ipywidgets.readthedocs.io/en/stable/user_install.html\n",
      "  from .autonotebook import tqdm as notebook_tqdm\n"
     ]
    }
   ],
   "source": [
    "import open_clip\n",
    "\n",
    "model, _, preprocess = open_clip.create_model_and_transforms(\n",
    "    \"ViT-B-32\", \n",
    "    pretrained=\"laion2b_s34b_b79k\"\n",
    ")\n",
    "\n",
    "tokenizer = open_clip.get_tokenizer(\"ViT-B-32\")\n",
    "\n",
    "labels = [\n",
    "    \"an airplane\",\n",
    "    \"a bird\",\n",
    "    \"a car\",\n",
    "    \"a cat\",\n",
    "    \"a deer\",\n",
    "    \"a dog\",\n",
    "    \"a horse\",\n",
    "    \"a monkey\",\n",
    "    \"a ship\",\n",
    "    \"a truck\"\n",
    "]\n",
    "\n",
    "text = tokenizer(labels)\n",
    "text_embeddings = model.encode_text(text)"
   ]
  },
  {
   "cell_type": "code",
   "execution_count": 2,
   "id": "4d038dde",
   "metadata": {},
   "outputs": [
    {
     "data": {
      "text/plain": [
       "10"
      ]
     },
     "execution_count": 2,
     "metadata": {},
     "output_type": "execute_result"
    }
   ],
   "source": [
    "len(text_embeddings)"
   ]
  },
  {
   "cell_type": "code",
   "execution_count": 3,
   "id": "3e3901fd",
   "metadata": {},
   "outputs": [],
   "source": [
    "import torch.nn.functional as F\n",
    "\n",
    "def embeddings_to_class_probs(vision_embeddings, text_embeddings):\n",
    "    vision_embeddings = vision_embeddings / vision_embeddings.norm(dim=-1, keepdim=True)\n",
    "    text_embeddings = text_embeddings / text_embeddings.norm(dim=-1, keepdim=True)\n",
    "    logits = vision_embeddings @ text_embeddings.T\n",
    "    class_probs = F.softmax(100. * logits, dim=-1)\n",
    "    return class_probs"
   ]
  },
  {
   "cell_type": "markdown",
   "id": "21a5f65d",
   "metadata": {},
   "source": [
    "### Get predictions on the training and testing dataset for open clip"
   ]
  },
  {
   "cell_type": "code",
   "execution_count": 4,
   "id": "f456d765",
   "metadata": {},
   "outputs": [
    {
     "name": "stderr",
     "output_type": "stream",
     "text": [
      "100%|██████████| 8000/8000 [04:51<00:00, 27.45it/s]\n"
     ]
    }
   ],
   "source": [
    "import tqdm\n",
    "import torch\n",
    "from torchvision.datasets import STL10\n",
    "\n",
    "dataset = STL10(\n",
    "    root=\"./stl10\",\n",
    "    download=True,\n",
    "    split=\"test\"\n",
    ")\n",
    "\n",
    "num_correct = 0\n",
    "\n",
    "for image, label in tqdm.tqdm(dataset):\n",
    "    input_tensor = preprocess(image).unsqueeze(0)\n",
    "    vision_embeddings = model.encode_image(input_tensor)\n",
    "    output_class_probs = embeddings_to_class_probs(vision_embeddings, text_embeddings)\n",
    "    output_label = torch.argmax(output_class_probs, dim=-1)\n",
    "    num_correct += int(torch.count_nonzero(output_label == label))\n",
    "\n",
    "accuracy = 100. * num_correct / len(dataset)"
   ]
  },
  {
   "cell_type": "code",
   "execution_count": 5,
   "id": "32088797",
   "metadata": {},
   "outputs": [
    {
     "data": {
      "text/plain": [
       "96.675"
      ]
     },
     "execution_count": 5,
     "metadata": {},
     "output_type": "execute_result"
    }
   ],
   "source": [
    "accuracy"
   ]
  },
  {
   "cell_type": "markdown",
   "id": "26b1c592",
   "metadata": {},
   "source": [
    "### Training resnet18 from scratch on the STL10 dataset with no distillation\n"
   ]
  },
  {
   "cell_type": "code",
   "execution_count": null,
   "id": "bc5529da",
   "metadata": {},
   "outputs": [
    {
     "name": "stderr",
     "output_type": "stream",
     "text": [
      "/Users/dcmac14/Library/Caches/pypoetry/virtualenvs/deeplearning-4xETOx6U-py3.10/lib/python3.10/site-packages/tqdm/auto.py:21: TqdmWarning: IProgress not found. Please update jupyter and ipywidgets. See https://ipywidgets.readthedocs.io/en/stable/user_install.html\n",
      "  from .autonotebook import tqdm as notebook_tqdm\n",
      "5000it [00:00, 8787.94it/s]\n",
      "8000it [00:00, 9257.65it/s]\n"
     ]
    },
    {
     "name": "stdout",
     "output_type": "stream",
     "text": [
      "Using device: mps for train_model_from_scratch\n"
     ]
    },
    {
     "name": "stderr",
     "output_type": "stream",
     "text": [
      "/Users/dcmac14/Library/Caches/pypoetry/virtualenvs/deeplearning-4xETOx6U-py3.10/lib/python3.10/site-packages/torch/utils/data/dataloader.py:683: UserWarning: 'pin_memory' argument is set as true but not supported on MPS now, then device pinned memory won't be used.\n",
      "  warnings.warn(warn_msg)\n"
     ]
    },
    {
     "name": "stdout",
     "output_type": "stream",
     "text": [
      "Epoch 1 - Test Loss: 1.7259, Test Accuracy: 34.29%\n",
      "Epoch 2 - Test Loss: 1.6783, Test Accuracy: 39.52%\n",
      "Epoch 3 - Test Loss: 1.4484, Test Accuracy: 46.79%\n",
      "Epoch 4 - Test Loss: 1.3064, Test Accuracy: 51.29%\n",
      "Epoch 5 - Test Loss: 1.2840, Test Accuracy: 52.86%\n",
      "Epoch 6 - Test Loss: 1.2543, Test Accuracy: 53.89%\n",
      "Epoch 7 - Test Loss: 1.3261, Test Accuracy: 55.14%\n",
      "Epoch 8 - Test Loss: 1.2820, Test Accuracy: 57.17%\n",
      "Epoch 9 - Test Loss: 1.3840, Test Accuracy: 56.45%\n",
      "Epoch 10 - Test Loss: 1.3339, Test Accuracy: 57.70%\n",
      "Finished Training\n"
     ]
    }
   ],
   "source": [
    "from stl10_utils import (\n",
    "    precompute_clip_stl10_train_image_embeddings,\n",
    "    precompute_clip_stl10_test_image_embeddings,\n",
    "    precompute_clip_stl10_text_embeddings,\n",
    "    train_resnet18_from_scratch,\n",
    "    train_resnet18_linear_probe_train_only\n",
    ")\n",
    "\n",
    "precompute_clip_stl10_train_image_embeddings()\n",
    "precompute_clip_stl10_test_image_embeddings()\n",
    "precompute_clip_stl10_text_embeddings()\n",
    "train_resnet18_from_scratch()\n"
   ]
  },
  {
   "cell_type": "markdown",
   "id": "7993f9eb",
   "metadata": {},
   "source": [
    "### Train linear probe version of the open clip transformer model first then use as the teacher for the resnet18 model. Only use the 5000 labeled training images."
   ]
  },
  {
   "cell_type": "code",
   "execution_count": null,
   "id": "9ad1ffdd",
   "metadata": {},
   "outputs": [
    {
     "name": "stderr",
     "output_type": "stream",
     "text": [
      "/Users/dcmac14/Library/Caches/pypoetry/virtualenvs/deeplearning-nKFECO7W-py3.10/lib/python3.10/site-packages/tqdm/auto.py:21: TqdmWarning: IProgress not found. Please update jupyter and ipywidgets. See https://ipywidgets.readthedocs.io/en/stable/user_install.html\n",
      "  from .autonotebook import tqdm as notebook_tqdm\n"
     ]
    },
    {
     "name": "stdout",
     "output_type": "stream",
     "text": [
      "Using device: mps for train_probe_model\n"
     ]
    },
    {
     "name": "stderr",
     "output_type": "stream",
     "text": [
      "100%|██████████| 79/79 [00:41<00:00,  1.90it/s]\n",
      "100%|██████████| 125/125 [00:41<00:00,  3.02it/s] "
     ]
    },
    {
     "name": "stdout",
     "output_type": "stream",
     "text": [
      "| EPOCH 0 | TRAIN LOSS 1.6945151030262815 | TEST ACC 96.525 |\n",
      "Saving checkpoint to data/experiments/train_probe_model_linear/checkpoint_0.pth\n"
     ]
    },
    {
     "name": "stderr",
     "output_type": "stream",
     "text": [
      "\n",
      "100%|██████████| 79/79 [00:41<00:00,  1.93it/s] \n",
      "100%|██████████| 125/125 [00:41<00:00,  3.01it/s] "
     ]
    },
    {
     "name": "stdout",
     "output_type": "stream",
     "text": [
      "| EPOCH 1 | TRAIN LOSS 0.8586429312259336 | TEST ACC 97.875 |\n",
      "Saving checkpoint to data/experiments/train_probe_model_linear/checkpoint_1.pth\n"
     ]
    },
    {
     "name": "stderr",
     "output_type": "stream",
     "text": [
      "\n",
      "100%|██████████| 79/79 [00:41<00:00,  1.93it/s]\n",
      "100%|██████████| 125/125 [00:41<00:00,  3.03it/s] "
     ]
    },
    {
     "name": "stdout",
     "output_type": "stream",
     "text": [
      "| EPOCH 2 | TRAIN LOSS 0.4846418032163306 | TEST ACC 98.15 |\n",
      "Saving checkpoint to data/experiments/train_probe_model_linear/checkpoint_2.pth\n"
     ]
    },
    {
     "name": "stderr",
     "output_type": "stream",
     "text": [
      "\n",
      "100%|██████████| 79/79 [00:40<00:00,  1.93it/s] \n",
      "100%|██████████| 125/125 [00:41<00:00,  3.02it/s] "
     ]
    },
    {
     "name": "stdout",
     "output_type": "stream",
     "text": [
      "| EPOCH 3 | TRAIN LOSS 0.3205600018742718 | TEST ACC 98.287 |\n",
      "Saving checkpoint to data/experiments/train_probe_model_linear/checkpoint_3.pth\n"
     ]
    },
    {
     "name": "stderr",
     "output_type": "stream",
     "text": [
      "\n",
      "100%|██████████| 79/79 [00:41<00:00,  1.93it/s] \n",
      "100%|██████████| 125/125 [00:41<00:00,  3.02it/s] "
     ]
    },
    {
     "name": "stdout",
     "output_type": "stream",
     "text": [
      "| EPOCH 4 | TRAIN LOSS 0.23346096861966048 | TEST ACC 98.275 |\n",
      "Saving checkpoint to data/experiments/train_probe_model_linear/checkpoint_4.pth\n"
     ]
    },
    {
     "name": "stderr",
     "output_type": "stream",
     "text": [
      "\n",
      "100%|██████████| 79/79 [00:41<00:00,  1.93it/s] \n",
      "100%|██████████| 125/125 [00:41<00:00,  3.02it/s] "
     ]
    },
    {
     "name": "stdout",
     "output_type": "stream",
     "text": [
      "| EPOCH 5 | TRAIN LOSS 0.18421262238599076 | TEST ACC 98.312 |\n",
      "Saving checkpoint to data/experiments/train_probe_model_linear/checkpoint_5.pth\n"
     ]
    },
    {
     "name": "stderr",
     "output_type": "stream",
     "text": [
      "\n",
      "100%|██████████| 79/79 [00:41<00:00,  1.92it/s]\n",
      "100%|██████████| 125/125 [00:41<00:00,  3.02it/s] "
     ]
    },
    {
     "name": "stdout",
     "output_type": "stream",
     "text": [
      "| EPOCH 6 | TRAIN LOSS 0.15107247714377656 | TEST ACC 98.325 |\n",
      "Saving checkpoint to data/experiments/train_probe_model_linear/checkpoint_6.pth\n"
     ]
    },
    {
     "name": "stderr",
     "output_type": "stream",
     "text": [
      "\n",
      "100%|██████████| 79/79 [00:41<00:00,  1.92it/s] \n",
      "100%|██████████| 125/125 [00:41<00:00,  3.02it/s] "
     ]
    },
    {
     "name": "stdout",
     "output_type": "stream",
     "text": [
      "| EPOCH 7 | TRAIN LOSS 0.1297762291152266 | TEST ACC 98.35 |\n",
      "Saving checkpoint to data/experiments/train_probe_model_linear/checkpoint_7.pth\n"
     ]
    },
    {
     "name": "stderr",
     "output_type": "stream",
     "text": [
      "\n",
      "100%|██████████| 79/79 [00:41<00:00,  1.92it/s]\n",
      "100%|██████████| 125/125 [00:41<00:00,  3.02it/s] "
     ]
    },
    {
     "name": "stdout",
     "output_type": "stream",
     "text": [
      "| EPOCH 8 | TRAIN LOSS 0.11251492383359354 | TEST ACC 98.362 |\n",
      "Saving checkpoint to data/experiments/train_probe_model_linear/checkpoint_8.pth\n"
     ]
    },
    {
     "name": "stderr",
     "output_type": "stream",
     "text": [
      "\n",
      "100%|██████████| 79/79 [00:41<00:00,  1.93it/s]\n",
      "100%|██████████| 125/125 [00:41<00:00,  3.02it/s] "
     ]
    },
    {
     "name": "stdout",
     "output_type": "stream",
     "text": [
      "| EPOCH 9 | TRAIN LOSS 0.10368885986412628 | TEST ACC 98.412 |\n",
      "Saving checkpoint to data/experiments/train_probe_model_linear/checkpoint_9.pth\n"
     ]
    },
    {
     "name": "stderr",
     "output_type": "stream",
     "text": [
      "\n",
      "100%|██████████| 79/79 [00:41<00:00,  1.93it/s]\n",
      "100%|██████████| 125/125 [00:41<00:00,  3.02it/s] "
     ]
    },
    {
     "name": "stdout",
     "output_type": "stream",
     "text": [
      "| EPOCH 10 | TRAIN LOSS 0.0907736331507375 | TEST ACC 98.388 |\n",
      "Saving checkpoint to data/experiments/train_probe_model_linear/checkpoint_10.pth\n"
     ]
    },
    {
     "name": "stderr",
     "output_type": "stream",
     "text": [
      "\n",
      "100%|██████████| 79/79 [00:40<00:00,  1.93it/s] \n",
      "100%|██████████| 125/125 [00:41<00:00,  3.02it/s] "
     ]
    },
    {
     "name": "stdout",
     "output_type": "stream",
     "text": [
      "| EPOCH 11 | TRAIN LOSS 0.08262064373945888 | TEST ACC 98.463 |\n",
      "Saving checkpoint to data/experiments/train_probe_model_linear/checkpoint_11.pth\n"
     ]
    },
    {
     "name": "stderr",
     "output_type": "stream",
     "text": [
      "\n",
      "100%|██████████| 79/79 [00:41<00:00,  1.92it/s] \n",
      "100%|██████████| 125/125 [00:41<00:00,  3.02it/s] "
     ]
    },
    {
     "name": "stdout",
     "output_type": "stream",
     "text": [
      "| EPOCH 12 | TRAIN LOSS 0.07603679161188723 | TEST ACC 98.475 |\n",
      "Saving checkpoint to data/experiments/train_probe_model_linear/checkpoint_12.pth\n"
     ]
    },
    {
     "name": "stderr",
     "output_type": "stream",
     "text": [
      "\n",
      "100%|██████████| 79/79 [00:41<00:00,  1.92it/s]\n",
      "100%|██████████| 125/125 [00:41<00:00,  3.02it/s] "
     ]
    },
    {
     "name": "stdout",
     "output_type": "stream",
     "text": [
      "| EPOCH 13 | TRAIN LOSS 0.07574994027425971 | TEST ACC 98.463 |\n",
      "Saving checkpoint to data/experiments/train_probe_model_linear/checkpoint_13.pth\n"
     ]
    },
    {
     "name": "stderr",
     "output_type": "stream",
     "text": [
      "\n",
      "100%|██████████| 79/79 [00:41<00:00,  1.93it/s]\n",
      "100%|██████████| 125/125 [00:41<00:00,  3.02it/s] \n"
     ]
    },
    {
     "name": "stdout",
     "output_type": "stream",
     "text": [
      "| EPOCH 14 | TRAIN LOSS 0.06695853437803968 | TEST ACC 98.487 |\n",
      "Saving checkpoint to data/experiments/train_probe_model_linear/checkpoint_14.pth\n",
      "Using device: mps for train_student_classification_model\n"
     ]
    },
    {
     "name": "stderr",
     "output_type": "stream",
     "text": [
      "  0%|          | 0/79 [00:00<?, ?it/s]/Users/dcmac14/Library/Caches/pypoetry/virtualenvs/deeplearning-nKFECO7W-py3.10/lib/python3.10/site-packages/torch/nn/functional.py:3384: UserWarning: reduction: 'mean' divides the total loss by both the batch size and the support size.'batchmean' divides only by the batch size, and aligns with the KL div math definition.'mean' will be changed to behave the same as 'batchmean' in the next major release.\n",
      "  warnings.warn(\n",
      "100%|██████████| 79/79 [00:48<00:00,  1.61it/s]\n",
      "100%|██████████| 125/125 [00:43<00:00,  2.87it/s]"
     ]
    },
    {
     "name": "stdout",
     "output_type": "stream",
     "text": [
      "| EPOCH 0 | TRAIN LOSS 0.17317846756947192 | TEST ACC 36.038 |\n",
      "Saving checkpoint to data/experiments/train_resnet18_linear_probe_train_only/checkpoint_0.pth\n"
     ]
    },
    {
     "name": "stderr",
     "output_type": "stream",
     "text": [
      "\n",
      "100%|██████████| 79/79 [00:47<00:00,  1.66it/s]\n",
      "100%|██████████| 125/125 [00:43<00:00,  2.87it/s]"
     ]
    },
    {
     "name": "stdout",
     "output_type": "stream",
     "text": [
      "| EPOCH 1 | TRAIN LOSS 0.14051566159800638 | TEST ACC 44.55 |\n",
      "Saving checkpoint to data/experiments/train_resnet18_linear_probe_train_only/checkpoint_1.pth\n"
     ]
    },
    {
     "name": "stderr",
     "output_type": "stream",
     "text": [
      "\n",
      "100%|██████████| 79/79 [00:47<00:00,  1.66it/s]\n",
      "100%|██████████| 125/125 [00:43<00:00,  2.87it/s]"
     ]
    },
    {
     "name": "stdout",
     "output_type": "stream",
     "text": [
      "| EPOCH 2 | TRAIN LOSS 0.1182014294251611 | TEST ACC 46.65 |\n",
      "Saving checkpoint to data/experiments/train_resnet18_linear_probe_train_only/checkpoint_2.pth\n"
     ]
    },
    {
     "name": "stderr",
     "output_type": "stream",
     "text": [
      "\n",
      "100%|██████████| 79/79 [00:47<00:00,  1.66it/s]\n",
      "100%|██████████| 125/125 [00:43<00:00,  2.88it/s]"
     ]
    },
    {
     "name": "stdout",
     "output_type": "stream",
     "text": [
      "| EPOCH 3 | TRAIN LOSS 0.09572759308392488 | TEST ACC 51.538 |\n",
      "Saving checkpoint to data/experiments/train_resnet18_linear_probe_train_only/checkpoint_3.pth\n"
     ]
    },
    {
     "name": "stderr",
     "output_type": "stream",
     "text": [
      "\n",
      "100%|██████████| 79/79 [00:47<00:00,  1.66it/s]\n",
      "100%|██████████| 125/125 [00:43<00:00,  2.87it/s]"
     ]
    },
    {
     "name": "stdout",
     "output_type": "stream",
     "text": [
      "| EPOCH 4 | TRAIN LOSS 0.07417350564199159 | TEST ACC 49.675 |\n"
     ]
    },
    {
     "name": "stderr",
     "output_type": "stream",
     "text": [
      "\n",
      "100%|██████████| 79/79 [00:47<00:00,  1.66it/s]\n",
      "100%|██████████| 125/125 [00:43<00:00,  2.86it/s]"
     ]
    },
    {
     "name": "stdout",
     "output_type": "stream",
     "text": [
      "| EPOCH 5 | TRAIN LOSS 0.05573632780321037 | TEST ACC 56.462 |\n",
      "Saving checkpoint to data/experiments/train_resnet18_linear_probe_train_only/checkpoint_5.pth\n"
     ]
    },
    {
     "name": "stderr",
     "output_type": "stream",
     "text": [
      "\n",
      "100%|██████████| 79/79 [00:47<00:00,  1.67it/s]\n",
      "100%|██████████| 125/125 [00:43<00:00,  2.87it/s]"
     ]
    },
    {
     "name": "stdout",
     "output_type": "stream",
     "text": [
      "| EPOCH 6 | TRAIN LOSS 0.033709211958737315 | TEST ACC 55.8 |\n"
     ]
    },
    {
     "name": "stderr",
     "output_type": "stream",
     "text": [
      "\n",
      "100%|██████████| 79/79 [00:47<00:00,  1.66it/s]\n",
      "100%|██████████| 125/125 [00:43<00:00,  2.86it/s]"
     ]
    },
    {
     "name": "stdout",
     "output_type": "stream",
     "text": [
      "| EPOCH 7 | TRAIN LOSS 0.02217064075219103 | TEST ACC 58.962 |\n",
      "Saving checkpoint to data/experiments/train_resnet18_linear_probe_train_only/checkpoint_7.pth\n"
     ]
    },
    {
     "name": "stderr",
     "output_type": "stream",
     "text": [
      "\n",
      "100%|██████████| 79/79 [00:47<00:00,  1.66it/s]\n",
      "100%|██████████| 125/125 [00:43<00:00,  2.87it/s]"
     ]
    },
    {
     "name": "stdout",
     "output_type": "stream",
     "text": [
      "| EPOCH 8 | TRAIN LOSS 0.012735146681389099 | TEST ACC 58.95 |\n"
     ]
    },
    {
     "name": "stderr",
     "output_type": "stream",
     "text": [
      "\n",
      "100%|██████████| 79/79 [00:47<00:00,  1.66it/s]\n",
      "100%|██████████| 125/125 [00:43<00:00,  2.87it/s]"
     ]
    },
    {
     "name": "stdout",
     "output_type": "stream",
     "text": [
      "| EPOCH 9 | TRAIN LOSS 0.007625078976955972 | TEST ACC 58.85 |\n"
     ]
    },
    {
     "name": "stderr",
     "output_type": "stream",
     "text": [
      "\n",
      "100%|██████████| 79/79 [00:47<00:00,  1.66it/s]\n",
      "100%|██████████| 125/125 [00:43<00:00,  2.86it/s]"
     ]
    },
    {
     "name": "stdout",
     "output_type": "stream",
     "text": [
      "| EPOCH 10 | TRAIN LOSS 0.0065189318943627275 | TEST ACC 58.45 |\n"
     ]
    },
    {
     "name": "stderr",
     "output_type": "stream",
     "text": [
      "\n",
      "100%|██████████| 79/79 [00:47<00:00,  1.67it/s]\n",
      "100%|██████████| 125/125 [00:43<00:00,  2.87it/s]"
     ]
    },
    {
     "name": "stdout",
     "output_type": "stream",
     "text": [
      "| EPOCH 11 | TRAIN LOSS 0.005437405393871514 | TEST ACC 61.0 |\n",
      "Saving checkpoint to data/experiments/train_resnet18_linear_probe_train_only/checkpoint_11.pth\n"
     ]
    },
    {
     "name": "stderr",
     "output_type": "stream",
     "text": [
      "\n",
      "100%|██████████| 79/79 [00:47<00:00,  1.66it/s]\n",
      "100%|██████████| 125/125 [00:43<00:00,  2.86it/s]"
     ]
    },
    {
     "name": "stdout",
     "output_type": "stream",
     "text": [
      "| EPOCH 12 | TRAIN LOSS 0.005024810975912629 | TEST ACC 59.987 |\n"
     ]
    },
    {
     "name": "stderr",
     "output_type": "stream",
     "text": [
      "\n",
      "100%|██████████| 79/79 [00:47<00:00,  1.66it/s]\n",
      "100%|██████████| 125/125 [00:43<00:00,  2.86it/s]"
     ]
    },
    {
     "name": "stdout",
     "output_type": "stream",
     "text": [
      "| EPOCH 13 | TRAIN LOSS 0.005202068570011024 | TEST ACC 59.938 |\n"
     ]
    },
    {
     "name": "stderr",
     "output_type": "stream",
     "text": [
      "\n",
      "100%|██████████| 79/79 [00:47<00:00,  1.67it/s]\n",
      "100%|██████████| 125/125 [00:43<00:00,  2.88it/s]"
     ]
    },
    {
     "name": "stdout",
     "output_type": "stream",
     "text": [
      "| EPOCH 14 | TRAIN LOSS 0.005184163940669615 | TEST ACC 60.025 |\n"
     ]
    },
    {
     "name": "stderr",
     "output_type": "stream",
     "text": [
      "\n",
      "100%|██████████| 79/79 [00:47<00:00,  1.66it/s]\n",
      "100%|██████████| 125/125 [00:43<00:00,  2.86it/s]"
     ]
    },
    {
     "name": "stdout",
     "output_type": "stream",
     "text": [
      "| EPOCH 15 | TRAIN LOSS 0.004824988661876208 | TEST ACC 59.225 |\n"
     ]
    },
    {
     "name": "stderr",
     "output_type": "stream",
     "text": [
      "\n",
      "100%|██████████| 79/79 [00:47<00:00,  1.66it/s]\n",
      "100%|██████████| 125/125 [00:43<00:00,  2.87it/s]"
     ]
    },
    {
     "name": "stdout",
     "output_type": "stream",
     "text": [
      "| EPOCH 16 | TRAIN LOSS 0.004273280463051758 | TEST ACC 60.288 |\n"
     ]
    },
    {
     "name": "stderr",
     "output_type": "stream",
     "text": [
      "\n",
      "100%|██████████| 79/79 [00:47<00:00,  1.66it/s]\n",
      "100%|██████████| 125/125 [00:43<00:00,  2.86it/s]"
     ]
    },
    {
     "name": "stdout",
     "output_type": "stream",
     "text": [
      "| EPOCH 17 | TRAIN LOSS 0.005281506966846653 | TEST ACC 59.763 |\n"
     ]
    },
    {
     "name": "stderr",
     "output_type": "stream",
     "text": [
      "\n",
      "100%|██████████| 79/79 [00:47<00:00,  1.66it/s]\n",
      "100%|██████████| 125/125 [00:43<00:00,  2.87it/s]"
     ]
    },
    {
     "name": "stdout",
     "output_type": "stream",
     "text": [
      "| EPOCH 18 | TRAIN LOSS 0.004780650913974718 | TEST ACC 59.163 |\n"
     ]
    },
    {
     "name": "stderr",
     "output_type": "stream",
     "text": [
      "\n",
      "100%|██████████| 79/79 [00:47<00:00,  1.67it/s]\n",
      "100%|██████████| 125/125 [00:43<00:00,  2.87it/s]"
     ]
    },
    {
     "name": "stdout",
     "output_type": "stream",
     "text": [
      "| EPOCH 19 | TRAIN LOSS 0.004898924681157628 | TEST ACC 59.55 |\n"
     ]
    },
    {
     "name": "stderr",
     "output_type": "stream",
     "text": [
      "\n",
      "100%|██████████| 79/79 [00:47<00:00,  1.66it/s]\n",
      "100%|██████████| 125/125 [00:43<00:00,  2.86it/s]"
     ]
    },
    {
     "name": "stdout",
     "output_type": "stream",
     "text": [
      "| EPOCH 20 | TRAIN LOSS 0.004698792778992955 | TEST ACC 59.462 |\n"
     ]
    },
    {
     "name": "stderr",
     "output_type": "stream",
     "text": [
      "\n",
      "100%|██████████| 79/79 [00:47<00:00,  1.66it/s]\n",
      "100%|██████████| 125/125 [00:43<00:00,  2.87it/s]"
     ]
    },
    {
     "name": "stdout",
     "output_type": "stream",
     "text": [
      "| EPOCH 21 | TRAIN LOSS 0.004499808422443044 | TEST ACC 59.087 |\n"
     ]
    },
    {
     "name": "stderr",
     "output_type": "stream",
     "text": [
      "\n",
      "100%|██████████| 79/79 [00:47<00:00,  1.66it/s]\n",
      "100%|██████████| 125/125 [00:43<00:00,  2.87it/s]"
     ]
    },
    {
     "name": "stdout",
     "output_type": "stream",
     "text": [
      "| EPOCH 22 | TRAIN LOSS 0.004157212150247791 | TEST ACC 58.475 |\n"
     ]
    },
    {
     "name": "stderr",
     "output_type": "stream",
     "text": [
      "\n",
      "100%|██████████| 79/79 [00:47<00:00,  1.66it/s]\n",
      "100%|██████████| 125/125 [00:43<00:00,  2.87it/s]"
     ]
    },
    {
     "name": "stdout",
     "output_type": "stream",
     "text": [
      "| EPOCH 23 | TRAIN LOSS 0.0050617341627072114 | TEST ACC 59.6 |\n"
     ]
    },
    {
     "name": "stderr",
     "output_type": "stream",
     "text": [
      "\n",
      "100%|██████████| 79/79 [00:47<00:00,  1.66it/s]\n",
      "100%|██████████| 125/125 [00:43<00:00,  2.87it/s]"
     ]
    },
    {
     "name": "stdout",
     "output_type": "stream",
     "text": [
      "| EPOCH 24 | TRAIN LOSS 0.006159648646989578 | TEST ACC 58.95 |\n"
     ]
    },
    {
     "name": "stderr",
     "output_type": "stream",
     "text": [
      "\n",
      "100%|██████████| 79/79 [00:47<00:00,  1.67it/s]\n",
      "100%|██████████| 125/125 [00:43<00:00,  2.88it/s]"
     ]
    },
    {
     "name": "stdout",
     "output_type": "stream",
     "text": [
      "| EPOCH 25 | TRAIN LOSS 0.0046725352206326365 | TEST ACC 59.062 |\n"
     ]
    },
    {
     "name": "stderr",
     "output_type": "stream",
     "text": [
      "\n",
      "100%|██████████| 79/79 [00:47<00:00,  1.66it/s]\n",
      "100%|██████████| 125/125 [00:43<00:00,  2.87it/s]"
     ]
    },
    {
     "name": "stdout",
     "output_type": "stream",
     "text": [
      "| EPOCH 26 | TRAIN LOSS 0.00645063483580664 | TEST ACC 59.188 |\n"
     ]
    },
    {
     "name": "stderr",
     "output_type": "stream",
     "text": [
      "\n",
      "100%|██████████| 79/79 [00:47<00:00,  1.66it/s]\n",
      "100%|██████████| 125/125 [00:43<00:00,  2.87it/s]"
     ]
    },
    {
     "name": "stdout",
     "output_type": "stream",
     "text": [
      "| EPOCH 27 | TRAIN LOSS 0.004075771597025421 | TEST ACC 60.337 |\n"
     ]
    },
    {
     "name": "stderr",
     "output_type": "stream",
     "text": [
      "\n",
      "100%|██████████| 79/79 [00:47<00:00,  1.67it/s]\n",
      "100%|██████████| 125/125 [00:43<00:00,  2.86it/s]"
     ]
    },
    {
     "name": "stdout",
     "output_type": "stream",
     "text": [
      "| EPOCH 28 | TRAIN LOSS 0.003833013704588896 | TEST ACC 60.087 |\n"
     ]
    },
    {
     "name": "stderr",
     "output_type": "stream",
     "text": [
      "\n",
      "100%|██████████| 79/79 [00:47<00:00,  1.67it/s]\n",
      "100%|██████████| 125/125 [00:43<00:00,  2.87it/s]"
     ]
    },
    {
     "name": "stdout",
     "output_type": "stream",
     "text": [
      "| EPOCH 29 | TRAIN LOSS 0.003347965200502378 | TEST ACC 60.538 |\n"
     ]
    },
    {
     "name": "stderr",
     "output_type": "stream",
     "text": [
      "\n",
      "100%|██████████| 79/79 [00:47<00:00,  1.66it/s]\n",
      "100%|██████████| 125/125 [00:43<00:00,  2.86it/s]"
     ]
    },
    {
     "name": "stdout",
     "output_type": "stream",
     "text": [
      "| EPOCH 30 | TRAIN LOSS 0.0032185214524499224 | TEST ACC 61.288 |\n",
      "Saving checkpoint to data/experiments/train_resnet18_linear_probe_train_only/checkpoint_30.pth\n"
     ]
    },
    {
     "name": "stderr",
     "output_type": "stream",
     "text": [
      "\n",
      "100%|██████████| 79/79 [00:47<00:00,  1.66it/s]\n",
      "100%|██████████| 125/125 [00:43<00:00,  2.86it/s]"
     ]
    },
    {
     "name": "stdout",
     "output_type": "stream",
     "text": [
      "| EPOCH 31 | TRAIN LOSS 0.003143160959080899 | TEST ACC 60.575 |\n"
     ]
    },
    {
     "name": "stderr",
     "output_type": "stream",
     "text": [
      "\n",
      "100%|██████████| 79/79 [00:47<00:00,  1.67it/s]\n",
      "100%|██████████| 125/125 [00:43<00:00,  2.86it/s]"
     ]
    },
    {
     "name": "stdout",
     "output_type": "stream",
     "text": [
      "| EPOCH 32 | TRAIN LOSS 0.003011773943111206 | TEST ACC 60.825 |\n"
     ]
    },
    {
     "name": "stderr",
     "output_type": "stream",
     "text": [
      "\n",
      "100%|██████████| 79/79 [00:47<00:00,  1.66it/s]\n",
      "100%|██████████| 125/125 [00:43<00:00,  2.86it/s]"
     ]
    },
    {
     "name": "stdout",
     "output_type": "stream",
     "text": [
      "| EPOCH 33 | TRAIN LOSS 0.0034961330783966032 | TEST ACC 61.225 |\n"
     ]
    },
    {
     "name": "stderr",
     "output_type": "stream",
     "text": [
      "\n",
      "100%|██████████| 79/79 [00:47<00:00,  1.66it/s]\n",
      "100%|██████████| 125/125 [00:43<00:00,  2.86it/s]"
     ]
    },
    {
     "name": "stdout",
     "output_type": "stream",
     "text": [
      "| EPOCH 34 | TRAIN LOSS 0.002953878574403404 | TEST ACC 60.663 |\n"
     ]
    },
    {
     "name": "stderr",
     "output_type": "stream",
     "text": [
      "\n",
      "100%|██████████| 79/79 [00:47<00:00,  1.66it/s]\n",
      "100%|██████████| 125/125 [00:43<00:00,  2.87it/s]"
     ]
    },
    {
     "name": "stdout",
     "output_type": "stream",
     "text": [
      "| EPOCH 35 | TRAIN LOSS 0.0028141941256302444 | TEST ACC 60.4 |\n"
     ]
    },
    {
     "name": "stderr",
     "output_type": "stream",
     "text": [
      "\n",
      "100%|██████████| 79/79 [00:47<00:00,  1.66it/s]\n",
      "100%|██████████| 125/125 [00:43<00:00,  2.87it/s]"
     ]
    },
    {
     "name": "stdout",
     "output_type": "stream",
     "text": [
      "| EPOCH 36 | TRAIN LOSS 0.0027187037903556154 | TEST ACC 61.3 |\n",
      "Saving checkpoint to data/experiments/train_resnet18_linear_probe_train_only/checkpoint_36.pth\n"
     ]
    },
    {
     "name": "stderr",
     "output_type": "stream",
     "text": [
      "\n",
      "100%|██████████| 79/79 [00:47<00:00,  1.66it/s]\n",
      "100%|██████████| 125/125 [00:43<00:00,  2.87it/s]"
     ]
    },
    {
     "name": "stdout",
     "output_type": "stream",
     "text": [
      "| EPOCH 37 | TRAIN LOSS 0.002916039443645579 | TEST ACC 60.913 |\n"
     ]
    },
    {
     "name": "stderr",
     "output_type": "stream",
     "text": [
      "\n",
      "100%|██████████| 79/79 [00:47<00:00,  1.67it/s]\n",
      "100%|██████████| 125/125 [00:43<00:00,  2.86it/s]"
     ]
    },
    {
     "name": "stdout",
     "output_type": "stream",
     "text": [
      "| EPOCH 38 | TRAIN LOSS 0.002963168984220092 | TEST ACC 60.938 |\n"
     ]
    },
    {
     "name": "stderr",
     "output_type": "stream",
     "text": [
      "\n",
      "100%|██████████| 79/79 [00:47<00:00,  1.67it/s]\n",
      "100%|██████████| 125/125 [00:43<00:00,  2.87it/s]"
     ]
    },
    {
     "name": "stdout",
     "output_type": "stream",
     "text": [
      "| EPOCH 39 | TRAIN LOSS 0.003542058981801796 | TEST ACC 60.075 |\n"
     ]
    },
    {
     "name": "stderr",
     "output_type": "stream",
     "text": [
      "\n",
      "100%|██████████| 79/79 [00:47<00:00,  1.66it/s]\n",
      "100%|██████████| 125/125 [00:43<00:00,  2.87it/s]"
     ]
    },
    {
     "name": "stdout",
     "output_type": "stream",
     "text": [
      "| EPOCH 40 | TRAIN LOSS 0.0031600376986014316 | TEST ACC 60.513 |\n"
     ]
    },
    {
     "name": "stderr",
     "output_type": "stream",
     "text": [
      "\n",
      "100%|██████████| 79/79 [00:47<00:00,  1.66it/s]\n",
      "100%|██████████| 125/125 [00:43<00:00,  2.87it/s]"
     ]
    },
    {
     "name": "stdout",
     "output_type": "stream",
     "text": [
      "| EPOCH 41 | TRAIN LOSS 0.002905622885055557 | TEST ACC 60.7 |\n"
     ]
    },
    {
     "name": "stderr",
     "output_type": "stream",
     "text": [
      "\n",
      "100%|██████████| 79/79 [00:47<00:00,  1.66it/s]\n",
      "100%|██████████| 125/125 [00:43<00:00,  2.87it/s]"
     ]
    },
    {
     "name": "stdout",
     "output_type": "stream",
     "text": [
      "| EPOCH 42 | TRAIN LOSS 0.002950665296373677 | TEST ACC 59.712 |\n"
     ]
    },
    {
     "name": "stderr",
     "output_type": "stream",
     "text": [
      "\n",
      "100%|██████████| 79/79 [00:47<00:00,  1.66it/s]\n",
      "100%|██████████| 125/125 [00:43<00:00,  2.87it/s]"
     ]
    },
    {
     "name": "stdout",
     "output_type": "stream",
     "text": [
      "| EPOCH 43 | TRAIN LOSS 0.002645805763976672 | TEST ACC 61.125 |\n"
     ]
    },
    {
     "name": "stderr",
     "output_type": "stream",
     "text": [
      "\n",
      "100%|██████████| 79/79 [00:47<00:00,  1.67it/s]\n",
      "100%|██████████| 125/125 [00:43<00:00,  2.86it/s]"
     ]
    },
    {
     "name": "stdout",
     "output_type": "stream",
     "text": [
      "| EPOCH 44 | TRAIN LOSS 0.0025625785509171555 | TEST ACC 60.425 |\n"
     ]
    },
    {
     "name": "stderr",
     "output_type": "stream",
     "text": [
      "\n",
      "100%|██████████| 79/79 [00:47<00:00,  1.67it/s]\n",
      "100%|██████████| 125/125 [00:43<00:00,  2.87it/s]\n"
     ]
    },
    {
     "name": "stdout",
     "output_type": "stream",
     "text": [
      "| EPOCH 45 | TRAIN LOSS 0.0022257919057826455 | TEST ACC 61.65 |\n",
      "Saving checkpoint to data/experiments/train_resnet18_linear_probe_train_only/checkpoint_45.pth\n"
     ]
    },
    {
     "name": "stderr",
     "output_type": "stream",
     "text": [
      "100%|██████████| 79/79 [00:47<00:00,  1.67it/s]\n",
      "100%|██████████| 125/125 [00:43<00:00,  2.86it/s]"
     ]
    },
    {
     "name": "stdout",
     "output_type": "stream",
     "text": [
      "| EPOCH 46 | TRAIN LOSS 0.0020061021190301716 | TEST ACC 60.775 |\n"
     ]
    },
    {
     "name": "stderr",
     "output_type": "stream",
     "text": [
      "\n",
      "100%|██████████| 79/79 [00:47<00:00,  1.65it/s]\n",
      "100%|██████████| 125/125 [00:43<00:00,  2.87it/s]"
     ]
    },
    {
     "name": "stdout",
     "output_type": "stream",
     "text": [
      "| EPOCH 47 | TRAIN LOSS 0.0019103355817732554 | TEST ACC 61.725 |\n",
      "Saving checkpoint to data/experiments/train_resnet18_linear_probe_train_only/checkpoint_47.pth\n"
     ]
    },
    {
     "name": "stderr",
     "output_type": "stream",
     "text": [
      "\n",
      "100%|██████████| 79/79 [00:47<00:00,  1.66it/s]\n",
      "100%|██████████| 125/125 [00:43<00:00,  2.87it/s]"
     ]
    },
    {
     "name": "stdout",
     "output_type": "stream",
     "text": [
      "| EPOCH 48 | TRAIN LOSS 0.0019364761884170998 | TEST ACC 61.625 |\n"
     ]
    },
    {
     "name": "stderr",
     "output_type": "stream",
     "text": [
      "\n",
      "100%|██████████| 79/79 [00:47<00:00,  1.66it/s]\n",
      "100%|██████████| 125/125 [00:43<00:00,  2.87it/s]"
     ]
    },
    {
     "name": "stdout",
     "output_type": "stream",
     "text": [
      "| EPOCH 49 | TRAIN LOSS 0.0019169185602377298 | TEST ACC 61.875 |\n",
      "Saving checkpoint to data/experiments/train_resnet18_linear_probe_train_only/checkpoint_49.pth\n"
     ]
    },
    {
     "name": "stderr",
     "output_type": "stream",
     "text": [
      "\n"
     ]
    }
   ],
   "source": [
    "from stl10_utils import (\n",
    "    precompute_clip_stl10_train_image_embeddings,\n",
    "    precompute_clip_stl10_test_image_embeddings,\n",
    "    precompute_clip_stl10_text_embeddings,\n",
    "    train_resnet18_from_scratch,\n",
    "    train_resnet18_linear_probe_train_only\n",
    ")\n",
    "train_resnet18_linear_probe_train_only()"
   ]
  },
  {
   "cell_type": "markdown",
   "id": "1aeec9e4",
   "metadata": {},
   "source": [
    "This results in a meager 62% accuracy, we can do better"
   ]
  },
  {
   "cell_type": "markdown",
   "id": "9c40edbd",
   "metadata": {},
   "source": [
    "### Train the resnet18 as the studuent with open_clip's linear probe version of the transformer as the teacher. Use the 5000 labeled images plus the 100000 unlabeled images for the training dataset."
   ]
  },
  {
   "cell_type": "code",
   "execution_count": null,
   "id": "b7ecdacf",
   "metadata": {},
   "outputs": [
    {
     "name": "stderr",
     "output_type": "stream",
     "text": [
      "5000it [00:00, 6755.83it/s]\n",
      "100000it [1:03:37, 26.20it/s]\n",
      "8000it [00:01, 7360.21it/s]\n"
     ]
    },
    {
     "name": "stdout",
     "output_type": "stream",
     "text": [
      "Using device: mps for train_student_classification_model\n"
     ]
    }
   ],
   "source": [
    "from stl10_utils import (\n",
    "    precompute_clip_stl10_train_image_embeddings,\n",
    "    precompute_clip_stl10_unlabeled_image_embeddings,\n",
    "    precompute_clip_stl10_test_image_embeddings,\n",
    "    precompute_clip_stl10_text_embeddings,\n",
    "    train_resnet18_linear_probe\n",
    ")\n",
    "\n",
    "precompute_clip_stl10_train_image_embeddings()\n",
    "precompute_clip_stl10_unlabeled_image_embeddings()\n",
    "precompute_clip_stl10_test_image_embeddings()\n",
    "precompute_clip_stl10_text_embeddings()\n"
   ]
  },
  {
   "cell_type": "code",
   "execution_count": 2,
   "id": "af097850",
   "metadata": {},
   "outputs": [
    {
     "name": "stderr",
     "output_type": "stream",
     "text": [
      "/Users/dcmac14/Library/Caches/pypoetry/virtualenvs/deeplearning-nKFECO7W-py3.10/lib/python3.10/site-packages/tqdm/auto.py:21: TqdmWarning: IProgress not found. Please update jupyter and ipywidgets. See https://ipywidgets.readthedocs.io/en/stable/user_install.html\n",
      "  from .autonotebook import tqdm as notebook_tqdm\n"
     ]
    },
    {
     "name": "stdout",
     "output_type": "stream",
     "text": [
      "Using device: mps for train_student_classification_model\n"
     ]
    },
    {
     "name": "stderr",
     "output_type": "stream",
     "text": [
      "  0%|          | 0/1641 [00:00<?, ?it/s]/Users/dcmac14/Library/Caches/pypoetry/virtualenvs/deeplearning-nKFECO7W-py3.10/lib/python3.10/site-packages/torch/nn/functional.py:3384: UserWarning: reduction: 'mean' divides the total loss by both the batch size and the support size.'batchmean' divides only by the batch size, and aligns with the KL div math definition.'mean' will be changed to behave the same as 'batchmean' in the next major release.\n",
      "  warnings.warn(\n",
      "100%|██████████| 1641/1641 [25:39<00:00,  1.07it/s]   \n",
      "100%|██████████| 125/125 [04:09<00:00,  2.00s/it]"
     ]
    },
    {
     "name": "stdout",
     "output_type": "stream",
     "text": [
      "| EPOCH 0 | TRAIN LOSS 0.08073753968226263 | TEST ACC 62.725 |\n",
      "Saving checkpoint to data/experiments/train_resnet18_linear_probe/checkpoint_0.pth\n"
     ]
    },
    {
     "name": "stderr",
     "output_type": "stream",
     "text": [
      "\n",
      "100%|██████████| 1641/1641 [06:01<00:00,  4.54it/s]\n",
      "100%|██████████| 125/125 [00:43<00:00,  2.86it/s]"
     ]
    },
    {
     "name": "stdout",
     "output_type": "stream",
     "text": [
      "| EPOCH 1 | TRAIN LOSS 0.05812758934899193 | TEST ACC 75.787 |\n",
      "Saving checkpoint to data/experiments/train_resnet18_linear_probe/checkpoint_1.pth\n"
     ]
    },
    {
     "name": "stderr",
     "output_type": "stream",
     "text": [
      "\n",
      "100%|██████████| 1641/1641 [07:39<00:00,  3.57it/s]  \n",
      "100%|██████████| 125/125 [00:43<00:00,  2.87it/s]"
     ]
    },
    {
     "name": "stdout",
     "output_type": "stream",
     "text": [
      "| EPOCH 2 | TRAIN LOSS 0.04811464165184717 | TEST ACC 81.338 |\n",
      "Saving checkpoint to data/experiments/train_resnet18_linear_probe/checkpoint_2.pth\n"
     ]
    },
    {
     "name": "stderr",
     "output_type": "stream",
     "text": [
      "\n",
      "100%|██████████| 1641/1641 [17:26<00:00,  1.57it/s]   \n",
      "100%|██████████| 125/125 [00:43<00:00,  2.86it/s]"
     ]
    },
    {
     "name": "stdout",
     "output_type": "stream",
     "text": [
      "| EPOCH 3 | TRAIN LOSS 0.03889543857223409 | TEST ACC 87.675 |\n",
      "Saving checkpoint to data/experiments/train_resnet18_linear_probe/checkpoint_3.pth\n"
     ]
    },
    {
     "name": "stderr",
     "output_type": "stream",
     "text": [
      "\n",
      "100%|██████████| 1641/1641 [04:06<00:00,  6.66it/s]\n",
      "100%|██████████| 125/125 [00:44<00:00,  2.81it/s]"
     ]
    },
    {
     "name": "stdout",
     "output_type": "stream",
     "text": [
      "| EPOCH 4 | TRAIN LOSS 0.030427580838937863 | TEST ACC 90.775 |\n",
      "Saving checkpoint to data/experiments/train_resnet18_linear_probe/checkpoint_4.pth\n"
     ]
    },
    {
     "name": "stderr",
     "output_type": "stream",
     "text": [
      "\n",
      "100%|██████████| 1641/1641 [03:55<00:00,  6.98it/s]\n",
      "100%|██████████| 125/125 [00:44<00:00,  2.83it/s]"
     ]
    },
    {
     "name": "stdout",
     "output_type": "stream",
     "text": [
      "| EPOCH 5 | TRAIN LOSS 0.023024145277679004 | TEST ACC 94.237 |\n",
      "Saving checkpoint to data/experiments/train_resnet18_linear_probe/checkpoint_5.pth\n"
     ]
    },
    {
     "name": "stderr",
     "output_type": "stream",
     "text": [
      "\n",
      "100%|██████████| 1641/1641 [04:36<00:00,  5.93it/s] \n",
      "100%|██████████| 125/125 [00:44<00:00,  2.81it/s]"
     ]
    },
    {
     "name": "stdout",
     "output_type": "stream",
     "text": [
      "| EPOCH 6 | TRAIN LOSS 0.01760030334155909 | TEST ACC 95.125 |\n",
      "Saving checkpoint to data/experiments/train_resnet18_linear_probe/checkpoint_6.pth\n"
     ]
    },
    {
     "name": "stderr",
     "output_type": "stream",
     "text": [
      "\n",
      "100%|██████████| 1641/1641 [04:17<00:00,  6.36it/s]  \n",
      "100%|██████████| 125/125 [00:44<00:00,  2.82it/s]"
     ]
    },
    {
     "name": "stdout",
     "output_type": "stream",
     "text": [
      "| EPOCH 7 | TRAIN LOSS 0.014369634148936621 | TEST ACC 96.138 |\n",
      "Saving checkpoint to data/experiments/train_resnet18_linear_probe/checkpoint_7.pth\n"
     ]
    },
    {
     "name": "stderr",
     "output_type": "stream",
     "text": [
      "\n",
      "100%|██████████| 1641/1641 [03:14<00:00,  8.43it/s]\n",
      "100%|██████████| 125/125 [00:43<00:00,  2.89it/s]"
     ]
    },
    {
     "name": "stdout",
     "output_type": "stream",
     "text": [
      "| EPOCH 8 | TRAIN LOSS 0.012054615343042913 | TEST ACC 95.9 |\n"
     ]
    },
    {
     "name": "stderr",
     "output_type": "stream",
     "text": [
      "\n",
      "100%|██████████| 1641/1641 [03:14<00:00,  8.45it/s]\n",
      "100%|██████████| 125/125 [00:43<00:00,  2.89it/s]"
     ]
    },
    {
     "name": "stdout",
     "output_type": "stream",
     "text": [
      "| EPOCH 9 | TRAIN LOSS 0.010548295209718906 | TEST ACC 96.25 |\n",
      "Saving checkpoint to data/experiments/train_resnet18_linear_probe/checkpoint_9.pth\n"
     ]
    },
    {
     "name": "stderr",
     "output_type": "stream",
     "text": [
      "\n",
      "100%|██████████| 1641/1641 [03:13<00:00,  8.46it/s]\n",
      "100%|██████████| 125/125 [00:43<00:00,  2.89it/s]"
     ]
    },
    {
     "name": "stdout",
     "output_type": "stream",
     "text": [
      "| EPOCH 10 | TRAIN LOSS 0.009557550123198632 | TEST ACC 96.263 |\n",
      "Saving checkpoint to data/experiments/train_resnet18_linear_probe/checkpoint_10.pth\n"
     ]
    },
    {
     "name": "stderr",
     "output_type": "stream",
     "text": [
      "\n",
      "100%|██████████| 1641/1641 [03:13<00:00,  8.46it/s]\n",
      "100%|██████████| 125/125 [00:43<00:00,  2.89it/s]"
     ]
    },
    {
     "name": "stdout",
     "output_type": "stream",
     "text": [
      "| EPOCH 11 | TRAIN LOSS 0.008693912711237387 | TEST ACC 96.325 |\n",
      "Saving checkpoint to data/experiments/train_resnet18_linear_probe/checkpoint_11.pth\n"
     ]
    },
    {
     "name": "stderr",
     "output_type": "stream",
     "text": [
      "\n",
      "100%|██████████| 1641/1641 [03:14<00:00,  8.44it/s]\n",
      "100%|██████████| 125/125 [00:43<00:00,  2.86it/s]"
     ]
    },
    {
     "name": "stdout",
     "output_type": "stream",
     "text": [
      "| EPOCH 12 | TRAIN LOSS 0.00801360661261542 | TEST ACC 96.062 |\n"
     ]
    },
    {
     "name": "stderr",
     "output_type": "stream",
     "text": [
      "\n",
      "100%|██████████| 1641/1641 [03:13<00:00,  8.48it/s]\n",
      "100%|██████████| 125/125 [00:43<00:00,  2.89it/s]"
     ]
    },
    {
     "name": "stdout",
     "output_type": "stream",
     "text": [
      "| EPOCH 13 | TRAIN LOSS 0.007371369825640897 | TEST ACC 96.362 |\n",
      "Saving checkpoint to data/experiments/train_resnet18_linear_probe/checkpoint_13.pth\n"
     ]
    },
    {
     "name": "stderr",
     "output_type": "stream",
     "text": [
      "\n",
      "100%|██████████| 1641/1641 [03:13<00:00,  8.46it/s]\n",
      "100%|██████████| 125/125 [00:43<00:00,  2.89it/s]\n"
     ]
    },
    {
     "name": "stdout",
     "output_type": "stream",
     "text": [
      "| EPOCH 14 | TRAIN LOSS 0.006923411502335436 | TEST ACC 96.388 |\n",
      "Saving checkpoint to data/experiments/train_resnet18_linear_probe/checkpoint_14.pth\n"
     ]
    },
    {
     "name": "stderr",
     "output_type": "stream",
     "text": [
      "100%|██████████| 1641/1641 [03:14<00:00,  8.45it/s]\n",
      "100%|██████████| 125/125 [00:43<00:00,  2.89it/s]"
     ]
    },
    {
     "name": "stdout",
     "output_type": "stream",
     "text": [
      "| EPOCH 15 | TRAIN LOSS 0.006489613841728766 | TEST ACC 96.325 |\n"
     ]
    },
    {
     "name": "stderr",
     "output_type": "stream",
     "text": [
      "\n",
      "100%|██████████| 1641/1641 [03:15<00:00,  8.40it/s]\n",
      "100%|██████████| 125/125 [00:43<00:00,  2.89it/s]"
     ]
    },
    {
     "name": "stdout",
     "output_type": "stream",
     "text": [
      "| EPOCH 16 | TRAIN LOSS 0.006063264433554465 | TEST ACC 96.375 |\n"
     ]
    },
    {
     "name": "stderr",
     "output_type": "stream",
     "text": [
      "\n",
      "100%|██████████| 1641/1641 [03:14<00:00,  8.45it/s]\n",
      "100%|██████████| 125/125 [00:43<00:00,  2.87it/s]\n"
     ]
    },
    {
     "name": "stdout",
     "output_type": "stream",
     "text": [
      "| EPOCH 17 | TRAIN LOSS 0.00566466551558963 | TEST ACC 96.562 |\n",
      "Saving checkpoint to data/experiments/train_resnet18_linear_probe/checkpoint_17.pth\n"
     ]
    },
    {
     "name": "stderr",
     "output_type": "stream",
     "text": [
      "100%|██████████| 1641/1641 [03:13<00:00,  8.47it/s]\n",
      "100%|██████████| 125/125 [00:43<00:00,  2.89it/s]"
     ]
    },
    {
     "name": "stdout",
     "output_type": "stream",
     "text": [
      "| EPOCH 18 | TRAIN LOSS 0.005285361894229876 | TEST ACC 96.025 |\n"
     ]
    },
    {
     "name": "stderr",
     "output_type": "stream",
     "text": [
      "\n",
      "100%|██████████| 1641/1641 [03:12<00:00,  8.54it/s]\n",
      "100%|██████████| 125/125 [00:43<00:00,  2.90it/s]"
     ]
    },
    {
     "name": "stdout",
     "output_type": "stream",
     "text": [
      "| EPOCH 19 | TRAIN LOSS 0.004969530341758561 | TEST ACC 96.412 |\n"
     ]
    },
    {
     "name": "stderr",
     "output_type": "stream",
     "text": [
      "\n",
      "  5%|▌         | 83/1641 [00:09<02:57,  8.76it/s]\n"
     ]
    },
    {
     "ename": "",
     "evalue": "",
     "output_type": "error",
     "traceback": [
      "\u001b[1;31mThe Kernel crashed while executing code in the current cell or a previous cell. \n",
      "\u001b[1;31mPlease review the code in the cell(s) to identify a possible cause of the failure. \n",
      "\u001b[1;31mClick <a href='https://aka.ms/vscodeJupyterKernelCrash'>here</a> for more info. \n",
      "\u001b[1;31mView Jupyter <a href='command:jupyter.viewOutput'>log</a> for further details."
     ]
    }
   ],
   "source": [
    "from stl10_utils import (\n",
    "    train_resnet18_linear_probe\n",
    ")\n",
    "\n",
    "train_resnet18_linear_probe()"
   ]
  },
  {
   "cell_type": "markdown",
   "id": "494697a8",
   "metadata": {},
   "source": [
    "#### This quickly returned much better results and is nearly at the same accuracy level to the base open clip transformer model."
   ]
  }
 ],
 "metadata": {
  "kernelspec": {
   "display_name": "deeplearning-nKFECO7W-py3.10",
   "language": "python",
   "name": "python3"
  },
  "language_info": {
   "codemirror_mode": {
    "name": "ipython",
    "version": 3
   },
   "file_extension": ".py",
   "mimetype": "text/x-python",
   "name": "python",
   "nbconvert_exporter": "python",
   "pygments_lexer": "ipython3",
   "version": "3.10.17"
  }
 },
 "nbformat": 4,
 "nbformat_minor": 5
}
